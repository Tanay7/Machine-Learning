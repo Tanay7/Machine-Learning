{
 "cells": [
  {
   "cell_type": "markdown",
   "metadata": {},
   "source": [
    "### Importing necessary libraries"
   ]
  },
  {
   "cell_type": "code",
   "execution_count": 1,
   "metadata": {},
   "outputs": [
    {
     "name": "stderr",
     "output_type": "stream",
     "text": [
      "C:\\Users\\Tanay\\Anaconda3\\envs\\tfdeeplearning\\lib\\site-packages\\sklearn\\cross_validation.py:41: DeprecationWarning: This module was deprecated in version 0.18 in favor of the model_selection module into which all the refactored classes and functions are moved. Also note that the interface of the new CV iterators are different from that of this module. This module will be removed in 0.20.\n",
      "  \"This module will be removed in 0.20.\", DeprecationWarning)\n",
      "C:\\Users\\Tanay\\Anaconda3\\envs\\tfdeeplearning\\lib\\site-packages\\sklearn\\grid_search.py:42: DeprecationWarning: This module was deprecated in version 0.18 in favor of the model_selection module into which all the refactored classes and functions are moved. This module will be removed in 0.20.\n",
      "  DeprecationWarning)\n"
     ]
    }
   ],
   "source": [
    "# -*- coding: utf-8 -*-\n",
    "\"\"\"\n",
    "Created on Thu Dec 22 16:46:56 2018\n",
    "\n",
    "@author: Tanay\n",
    "\"\"\"\n",
    "import os\n",
    "import time\n",
    "import pydot\n",
    "import pickle\n",
    "import numpy as np\n",
    "import pandas as pd\n",
    "import seaborn as sns\n",
    "from pprint import pprint\n",
    "import matplotlib.pyplot as plt\n",
    "from sklearn.metrics import scorer\n",
    "from sklearn import model_selection\n",
    "from sklearn.metrics import r2_score\n",
    "from sklearn.metrics import make_scorer\n",
    "from sklearn.tree import export_graphviz\n",
    "from sklearn.tree import DecisionTreeRegressor\n",
    "from sklearn.model_selection import GridSearchCV\n",
    "from sklearn.model_selection import learning_curve\n",
    "from sklearn.ensemble import RandomForestRegressor\n",
    "from sklearn.grid_search import RandomizedSearchCV\n",
    "from sklearn.linear_model import LogisticRegression\n",
    "from sklearn.model_selection import validation_curve\n",
    "from sklearn.model_selection import ShuffleSplit, train_test_split\n",
    "%matplotlib inline"
   ]
  },
  {
   "cell_type": "markdown",
   "metadata": {},
   "source": [
    "### Reading data and observing summary statistics"
   ]
  },
  {
   "cell_type": "code",
   "execution_count": 2,
   "metadata": {},
   "outputs": [
    {
     "name": "stdout",
     "output_type": "stream",
     "text": [
      "The shape of our features is: (489, 14)\n"
     ]
    },
    {
     "data": {
      "text/html": [
       "<div>\n",
       "<style>\n",
       "    .dataframe thead tr:only-child th {\n",
       "        text-align: right;\n",
       "    }\n",
       "\n",
       "    .dataframe thead th {\n",
       "        text-align: left;\n",
       "    }\n",
       "\n",
       "    .dataframe tbody tr th {\n",
       "        vertical-align: top;\n",
       "    }\n",
       "</style>\n",
       "<table border=\"1\" class=\"dataframe\">\n",
       "  <thead>\n",
       "    <tr style=\"text-align: right;\">\n",
       "      <th></th>\n",
       "      <th>CRIM</th>\n",
       "      <th>ZN</th>\n",
       "      <th>INDUS</th>\n",
       "      <th>CHAS</th>\n",
       "      <th>NOX</th>\n",
       "      <th>RM</th>\n",
       "      <th>AGE</th>\n",
       "      <th>DIS</th>\n",
       "      <th>RAD</th>\n",
       "      <th>TAX</th>\n",
       "      <th>PTRATIO</th>\n",
       "      <th>BLACK</th>\n",
       "      <th>LSTAT</th>\n",
       "      <th>MEDV</th>\n",
       "    </tr>\n",
       "  </thead>\n",
       "  <tbody>\n",
       "    <tr>\n",
       "      <th>count</th>\n",
       "      <td>489.000000</td>\n",
       "      <td>489.000000</td>\n",
       "      <td>489.000000</td>\n",
       "      <td>489.000000</td>\n",
       "      <td>489.000000</td>\n",
       "      <td>489.000000</td>\n",
       "      <td>489.000000</td>\n",
       "      <td>489.000000</td>\n",
       "      <td>489.000000</td>\n",
       "      <td>489.000000</td>\n",
       "      <td>489.000000</td>\n",
       "      <td>489.000000</td>\n",
       "      <td>489.000000</td>\n",
       "      <td>4.890000e+02</td>\n",
       "    </tr>\n",
       "    <tr>\n",
       "      <th>mean</th>\n",
       "      <td>3.643587</td>\n",
       "      <td>11.134969</td>\n",
       "      <td>11.098855</td>\n",
       "      <td>0.057260</td>\n",
       "      <td>0.553973</td>\n",
       "      <td>6.240288</td>\n",
       "      <td>68.249080</td>\n",
       "      <td>3.838465</td>\n",
       "      <td>9.484663</td>\n",
       "      <td>407.474438</td>\n",
       "      <td>18.516564</td>\n",
       "      <td>355.858119</td>\n",
       "      <td>12.939632</td>\n",
       "      <td>4.543429e+05</td>\n",
       "    </tr>\n",
       "    <tr>\n",
       "      <th>std</th>\n",
       "      <td>8.731083</td>\n",
       "      <td>22.862476</td>\n",
       "      <td>6.820944</td>\n",
       "      <td>0.232576</td>\n",
       "      <td>0.116572</td>\n",
       "      <td>0.643650</td>\n",
       "      <td>28.185847</td>\n",
       "      <td>2.110297</td>\n",
       "      <td>8.675400</td>\n",
       "      <td>167.830601</td>\n",
       "      <td>2.111268</td>\n",
       "      <td>92.729118</td>\n",
       "      <td>7.081990</td>\n",
       "      <td>1.653403e+05</td>\n",
       "    </tr>\n",
       "    <tr>\n",
       "      <th>min</th>\n",
       "      <td>0.006320</td>\n",
       "      <td>0.000000</td>\n",
       "      <td>0.740000</td>\n",
       "      <td>0.000000</td>\n",
       "      <td>0.385000</td>\n",
       "      <td>3.561000</td>\n",
       "      <td>2.900000</td>\n",
       "      <td>1.137000</td>\n",
       "      <td>1.000000</td>\n",
       "      <td>187.000000</td>\n",
       "      <td>12.600000</td>\n",
       "      <td>0.320000</td>\n",
       "      <td>1.980000</td>\n",
       "      <td>1.050000e+05</td>\n",
       "    </tr>\n",
       "    <tr>\n",
       "      <th>25%</th>\n",
       "      <td>0.081990</td>\n",
       "      <td>0.000000</td>\n",
       "      <td>5.190000</td>\n",
       "      <td>0.000000</td>\n",
       "      <td>0.449000</td>\n",
       "      <td>5.880000</td>\n",
       "      <td>44.400000</td>\n",
       "      <td>2.112100</td>\n",
       "      <td>4.000000</td>\n",
       "      <td>280.000000</td>\n",
       "      <td>17.400000</td>\n",
       "      <td>376.040000</td>\n",
       "      <td>7.370000</td>\n",
       "      <td>3.507000e+05</td>\n",
       "    </tr>\n",
       "    <tr>\n",
       "      <th>50%</th>\n",
       "      <td>0.245220</td>\n",
       "      <td>0.000000</td>\n",
       "      <td>9.690000</td>\n",
       "      <td>0.000000</td>\n",
       "      <td>0.538000</td>\n",
       "      <td>6.185000</td>\n",
       "      <td>76.700000</td>\n",
       "      <td>3.279700</td>\n",
       "      <td>5.000000</td>\n",
       "      <td>330.000000</td>\n",
       "      <td>19.100000</td>\n",
       "      <td>391.830000</td>\n",
       "      <td>11.690000</td>\n",
       "      <td>4.389000e+05</td>\n",
       "    </tr>\n",
       "    <tr>\n",
       "      <th>75%</th>\n",
       "      <td>3.673670</td>\n",
       "      <td>12.500000</td>\n",
       "      <td>18.100000</td>\n",
       "      <td>0.000000</td>\n",
       "      <td>0.624000</td>\n",
       "      <td>6.575000</td>\n",
       "      <td>93.900000</td>\n",
       "      <td>5.214600</td>\n",
       "      <td>24.000000</td>\n",
       "      <td>666.000000</td>\n",
       "      <td>20.200000</td>\n",
       "      <td>396.330000</td>\n",
       "      <td>17.120000</td>\n",
       "      <td>5.187000e+05</td>\n",
       "    </tr>\n",
       "    <tr>\n",
       "      <th>max</th>\n",
       "      <td>88.976200</td>\n",
       "      <td>100.000000</td>\n",
       "      <td>27.740000</td>\n",
       "      <td>1.000000</td>\n",
       "      <td>0.871000</td>\n",
       "      <td>8.398000</td>\n",
       "      <td>100.000000</td>\n",
       "      <td>12.126500</td>\n",
       "      <td>24.000000</td>\n",
       "      <td>711.000000</td>\n",
       "      <td>22.000000</td>\n",
       "      <td>396.900000</td>\n",
       "      <td>37.970000</td>\n",
       "      <td>1.024800e+06</td>\n",
       "    </tr>\n",
       "  </tbody>\n",
       "</table>\n",
       "</div>"
      ],
      "text/plain": [
       "             CRIM          ZN       INDUS        CHAS         NOX          RM  \\\n",
       "count  489.000000  489.000000  489.000000  489.000000  489.000000  489.000000   \n",
       "mean     3.643587   11.134969   11.098855    0.057260    0.553973    6.240288   \n",
       "std      8.731083   22.862476    6.820944    0.232576    0.116572    0.643650   \n",
       "min      0.006320    0.000000    0.740000    0.000000    0.385000    3.561000   \n",
       "25%      0.081990    0.000000    5.190000    0.000000    0.449000    5.880000   \n",
       "50%      0.245220    0.000000    9.690000    0.000000    0.538000    6.185000   \n",
       "75%      3.673670   12.500000   18.100000    0.000000    0.624000    6.575000   \n",
       "max     88.976200  100.000000   27.740000    1.000000    0.871000    8.398000   \n",
       "\n",
       "              AGE         DIS         RAD         TAX     PTRATIO       BLACK  \\\n",
       "count  489.000000  489.000000  489.000000  489.000000  489.000000  489.000000   \n",
       "mean    68.249080    3.838465    9.484663  407.474438   18.516564  355.858119   \n",
       "std     28.185847    2.110297    8.675400  167.830601    2.111268   92.729118   \n",
       "min      2.900000    1.137000    1.000000  187.000000   12.600000    0.320000   \n",
       "25%     44.400000    2.112100    4.000000  280.000000   17.400000  376.040000   \n",
       "50%     76.700000    3.279700    5.000000  330.000000   19.100000  391.830000   \n",
       "75%     93.900000    5.214600   24.000000  666.000000   20.200000  396.330000   \n",
       "max    100.000000   12.126500   24.000000  711.000000   22.000000  396.900000   \n",
       "\n",
       "            LSTAT          MEDV  \n",
       "count  489.000000  4.890000e+02  \n",
       "mean    12.939632  4.543429e+05  \n",
       "std      7.081990  1.653403e+05  \n",
       "min      1.980000  1.050000e+05  \n",
       "25%      7.370000  3.507000e+05  \n",
       "50%     11.690000  4.389000e+05  \n",
       "75%     17.120000  5.187000e+05  \n",
       "max     37.970000  1.024800e+06  "
      ]
     },
     "execution_count": 2,
     "metadata": {},
     "output_type": "execute_result"
    }
   ],
   "source": [
    "data = pd.read_csv(r'C:\\Users\\Tanay\\Desktop\\Genesis\\Boston Housing dataset\\BostonHousingDataset.csv')\n",
    "data.head(5) \n",
    "features = data.iloc[:, :-1].values\n",
    "prices = data.iloc[:, 13].values\n",
    "data.head()\n",
    "print('The shape of our features is:', data.shape)\n",
    "data.describe() # Descriptive statistics for each column"
   ]
  },
  {
   "cell_type": "markdown",
   "metadata": {},
   "source": [
    "### Statistics of Label (Price)"
   ]
  },
  {
   "cell_type": "code",
   "execution_count": 3,
   "metadata": {},
   "outputs": [
    {
     "name": "stdout",
     "output_type": "stream",
     "text": [
      "Statistics for Boston housing dataset:\n",
      "\n",
      "Minimum price: $105,000.00\n",
      "Maximum price: $1,024,800.00\n",
      "Mean price: $454,342.94\n",
      "Median price $438,900.00\n",
      "Standard deviation of prices: $165,171.13\n"
     ]
    }
   ],
   "source": [
    "# Minimum price of the data\n",
    "minimum_price = np.min(prices)\n",
    "\n",
    "# Maximum price of the data\n",
    "maximum_price = np.max(prices)\n",
    "\n",
    "# Mean price of the data\n",
    "mean_price = np.mean(prices)\n",
    "\n",
    "# Median price of the data\n",
    "median_price = np.median(prices)\n",
    "\n",
    "# Standard deviation of prices of the data\n",
    "std_price = np.std(prices)\n",
    "\n",
    "# Show the calculated statistics\n",
    "print(\"Statistics for Boston housing dataset:\\n\")\n",
    "print(\"Minimum price: ${:,.2f}\".format(minimum_price))\n",
    "print(\"Maximum price: ${:,.2f}\".format(maximum_price))\n",
    "print(\"Mean price: ${:,.2f}\".format(mean_price))\n",
    "print(\"Median price ${:,.2f}\".format(median_price))\n",
    "print(\"Standard deviation of prices: ${:,.2f}\".format(std_price))"
   ]
  },
  {
   "cell_type": "code",
   "execution_count": 4,
   "metadata": {},
   "outputs": [
    {
     "name": "stdout",
     "output_type": "stream",
     "text": [
      "['CRIM', 'ZN', 'INDUS', 'CHAS', 'NOX', 'RM', 'AGE', 'DIS', 'RAD', 'TAX', 'PTRATIO', 'BLACK', 'LSTAT']\n"
     ]
    }
   ],
   "source": [
    "# Creating feature list for Decision tree vizualization\n",
    "col_names = list(data.columns)\n",
    "feature_list=col_names[0:13]\n",
    "print(feature_list)"
   ]
  },
  {
   "cell_type": "markdown",
   "metadata": {},
   "source": [
    "### Training and Testing Sets"
   ]
  },
  {
   "cell_type": "code",
   "execution_count": 5,
   "metadata": {},
   "outputs": [
    {
     "name": "stdout",
     "output_type": "stream",
     "text": [
      "Training and testing split was successful.\n",
      "\n",
      "Training Features Shape: (366, 13)\n",
      "Training Prices Shape: (366,)\n",
      "Testing Features Shape: (123, 13)\n",
      "Testing Prices Shape: (123,)\n"
     ]
    }
   ],
   "source": [
    "# Splitting the data into training and testing sets\n",
    "train_features, test_features, train_prices, test_prices = train_test_split(features, prices, test_size = 0.25, random_state = 30)\n",
    "\n",
    "print(\"Training and testing split was successful.\\n\")\n",
    "print('Training Features Shape:', train_features.shape)\n",
    "print('Training Prices Shape:', train_prices.shape)\n",
    "print('Testing Features Shape:', test_features.shape)\n",
    "print('Testing Prices Shape:', test_prices.shape)"
   ]
  },
  {
   "cell_type": "markdown",
   "metadata": {},
   "source": [
    "### Establishing a baseline model"
   ]
  },
  {
   "cell_type": "code",
   "execution_count": 6,
   "metadata": {},
   "outputs": [
    {
     "name": "stdout",
     "output_type": "stream",
     "text": [
      "Average baseline error: 443992.0 dollars.\n"
     ]
    }
   ],
   "source": [
    "# Baseline error: Error generated if we simply predicted the prices for all entries.\n",
    "baseline_preds = test_features[:, 12]\n",
    "\n",
    "# Display the average baseline error\n",
    "baseline_errors = abs(baseline_preds - test_prices)\n",
    "print('Average baseline error:', round(np.mean(baseline_errors), 2),'dollars.')"
   ]
  },
  {
   "cell_type": "markdown",
   "metadata": {},
   "source": [
    "### Train the Model"
   ]
  },
  {
   "cell_type": "code",
   "execution_count": 7,
   "metadata": {
    "collapsed": true
   },
   "outputs": [],
   "source": [
    "# Instantiating model with 1000 decision trees\n",
    "rf = RandomForestRegressor(n_estimators = 1000, random_state = 30)\n",
    "# Train the model on training data\n",
    "simple_model= rf.fit(train_features, train_prices);"
   ]
  },
  {
   "cell_type": "markdown",
   "metadata": {},
   "source": [
    "### Making Predictions on the Test Set"
   ]
  },
  {
   "cell_type": "code",
   "execution_count": 8,
   "metadata": {},
   "outputs": [
    {
     "name": "stdout",
     "output_type": "stream",
     "text": [
      "Mean Absolute Error: 40776.43 dollars.\n"
     ]
    }
   ],
   "source": [
    "# Making predictions on test data\n",
    "base_predictions = simple_model.predict(test_features)\n",
    "# Calculating absolute error\n",
    "base_errors = abs(base_predictions - test_prices)\n",
    "\n",
    "# Printing mean absolute error (mae)\n",
    "print('Mean Absolute Error:', round(np.mean(base_errors), 2), 'dollars.')"
   ]
  },
  {
   "cell_type": "markdown",
   "metadata": {},
   "source": [
    "### Determining Performance Metrics"
   ]
  },
  {
   "cell_type": "code",
   "execution_count": 9,
   "metadata": {},
   "outputs": [
    {
     "name": "stdout",
     "output_type": "stream",
     "text": [
      "Accuracy: 88.9719 %.\n"
     ]
    }
   ],
   "source": [
    "# Calculating mean absolute percentage error (MAPE)\n",
    "mape = 100 * (base_errors / test_prices)\n",
    "\n",
    "# Calculating and display accuracy\n",
    "accuracy = 100 - np.mean(mape)\n",
    "print('Accuracy:', round(accuracy, 5), '%.')"
   ]
  },
  {
   "cell_type": "markdown",
   "metadata": {},
   "source": [
    "### Visualizing a Single Decision Tree"
   ]
  },
  {
   "cell_type": "code",
   "execution_count": 10,
   "metadata": {},
   "outputs": [
    {
     "name": "stdout",
     "output_type": "stream",
     "text": [
      "The depth of this tree is: 18\n"
     ]
    }
   ],
   "source": [
    "# Setting path\n",
    "os.environ[\"PATH\"] += os.pathsep + r'C:\\Users\\Tanay\\Anaconda3\\pkgs\\graphviz-2.38-hfd603c8_2\\Library\\bin\\graphviz'\n",
    "os.environ[\"PATH\"] += os.pathsep + r'C:\\Users\\Tanay\\Anaconda3\\pkgs\\graphviz-2.38.0-4\\Library\\bin\\graphviz'\n",
    "\n",
    "#Pulling out one tree from the forest\n",
    "tree = rf.estimators_[5]\n",
    "\n",
    "#Export the image to a dot file\n",
    "export_graphviz(tree, out_file = 'tree.dot', feature_names = feature_list, rounded = True, precision = 1)\n",
    "\n",
    "#Using dot file to create a graph\n",
    "(graph, ) = pydot.graph_from_dot_file('tree.dot')\n",
    "\n",
    "#Write graph to a png file\n",
    "graph.write_png('tree.png');\n",
    "\n",
    "print('The depth of this tree is:', tree.tree_.max_depth)\n"
   ]
  },
  {
   "cell_type": "markdown",
   "metadata": {},
   "source": [
    "<img src=\"tree.png\">"
   ]
  },
  {
   "cell_type": "code",
   "execution_count": 11,
   "metadata": {
    "collapsed": true
   },
   "outputs": [],
   "source": [
    "# Limiting the depth to 2 levels for better viz\n",
    "rf_small = RandomForestRegressor(n_estimators=1000, max_depth = 3, random_state=30)\n",
    "rf_small.fit(train_features, train_prices)\n",
    "\n",
    "# Extracting small tree\n",
    "tree_small = rf_small.estimators_[5]\n",
    "\n",
    "# Saving the tree as a png image\n",
    "export_graphviz(tree_small, out_file = 'small_tree.dot', feature_names = feature_list, rounded = True, precision = 1)\n",
    "\n",
    "(graph, ) = pydot.graph_from_dot_file('small_tree.dot')\n",
    "\n",
    "graph.write_png('small_tree.png');"
   ]
  },
  {
   "cell_type": "markdown",
   "metadata": {},
   "source": [
    "<img src=\"small_tree.png\">"
   ]
  },
  {
   "cell_type": "markdown",
   "metadata": {},
   "source": [
    "### Doing sample predictions"
   ]
  },
  {
   "cell_type": "code",
   "execution_count": 12,
   "metadata": {
    "collapsed": true
   },
   "outputs": [],
   "source": [
    "client_data = [[0.00632, 18, 2.31, 0, 0.538, 6.575, 65.2 ,4.09, 1, 296, 15.3, 396.9, 4.98],\n",
    "               [0, 0, 0, 0, 0, 5, 0, 0, 0, 0, 15, 0, 17],\n",
    "               [0, 0, 0, 0, 0, 4, 0, 0, 0, 0, 22, 0, 32],\n",
    "               [0, 0, 0, 0, 0, 8, 0, 0, 0, 0, 12, 0, 3]]"
   ]
  },
  {
   "cell_type": "code",
   "execution_count": 13,
   "metadata": {},
   "outputs": [
    {
     "name": "stdout",
     "output_type": "stream",
     "text": [
      "Predicted selling price for Client 1's home by using Random forest is: $579,799.50\n",
      "Predicted selling price for Client 2's home by using Random forest is: $430,590.30\n",
      "Predicted selling price for Client 3's home by using Random forest is: $384,898.50\n",
      "Predicted selling price for Client 4's home by using Random forest is: $950,707.80\n"
     ]
    }
   ],
   "source": [
    "# Base model predictions\n",
    "for i, price in enumerate(simple_model.predict(client_data)):\n",
    "    print (\"Predicted selling price for Client {}'s home by using Random forest is: ${:,.2f}\".format(i+1, price))"
   ]
  },
  {
   "cell_type": "markdown",
   "metadata": {},
   "source": [
    "## Model Improvement"
   ]
  },
  {
   "cell_type": "markdown",
   "metadata": {},
   "source": [
    "### Feature Reduction\n",
    "Reducing the number of features to reduce runtime, without significantly reducing performance.\n"
   ]
  },
  {
   "cell_type": "markdown",
   "metadata": {},
   "source": [
    "### Feature Importances"
   ]
  },
  {
   "cell_type": "code",
   "execution_count": 14,
   "metadata": {},
   "outputs": [
    {
     "name": "stdout",
     "output_type": "stream",
     "text": [
      "Variable: LSTAT                Importance: 0.45\n",
      "Variable: RM                   Importance: 0.35\n",
      "Variable: CRIM                 Importance: 0.06\n",
      "Variable: NOX                  Importance: 0.04\n",
      "Variable: DIS                  Importance: 0.02\n",
      "Variable: TAX                  Importance: 0.02\n",
      "Variable: PTRATIO              Importance: 0.02\n",
      "Variable: BLACK                Importance: 0.02\n",
      "Variable: INDUS                Importance: 0.01\n",
      "Variable: AGE                  Importance: 0.01\n",
      "Variable: ZN                   Importance: 0.0\n",
      "Variable: CHAS                 Importance: 0.0\n",
      "Variable: RAD                  Importance: 0.0\n"
     ]
    }
   ],
   "source": [
    "# Getting numerical feature importances\n",
    "importances = list(rf.feature_importances_)\n",
    "\n",
    "# List of tuples with variable and importance\n",
    "feature_importances = [(feature, round(importance, 2)) for feature, importance in zip(feature_list, importances)]\n",
    "\n",
    "# Sorting feature importances in ascending order (most important)\n",
    "feature_importances = sorted(feature_importances, key = lambda x: x[1], reverse = True)\n",
    "\n",
    "# Print out the feature and importances \n",
    "[print('Variable: {:20} Importance: {}'.format(*pair)) for pair in feature_importances];"
   ]
  },
  {
   "cell_type": "markdown",
   "metadata": {},
   "source": [
    "### Visualize Feature Importances"
   ]
  },
  {
   "cell_type": "code",
   "execution_count": 15,
   "metadata": {},
   "outputs": [
    {
     "data": {
      "image/png": "[encoded data removed]",
      "text/plain": [
       "<matplotlib.figure.Figure at 0x25a039ef6a0>"
      ]
     },
     "metadata": {},
     "output_type": "display_data"
    }
   ],
   "source": [
    "# Reset style \n",
    "# plt.style.use('ggplot')\n",
    "# plt.style.use('seaborn-bright')\n",
    "plt.style.use('seaborn-darkgrid')\n",
    "\n",
    "# list of x locations for plotting\n",
    "x_values = list(range(len(importances)))\n",
    "\n",
    "# Make a bar chart\n",
    "plt.bar(x_values, importances, orientation = 'vertical', color = 'g', edgecolor = 'r', linewidth = 1.2)\n",
    "\n",
    "# Tick labels for x axis\n",
    "plt.xticks(x_values, feature_list, rotation='vertical')\n",
    "\n",
    "# Axis labels and title\n",
    "plt.ylabel('Importance'); plt.xlabel('Variable'); plt.title('Variable Importances');"
   ]
  },
  {
   "cell_type": "code",
   "execution_count": 16,
   "metadata": {},
   "outputs": [
    {
     "data": {
      "image/png": "[encoded data removed]",
      "text/plain": [
       "<matplotlib.figure.Figure at 0x25a03a27550>"
      ]
     },
     "metadata": {},
     "output_type": "display_data"
    }
   ],
   "source": [
    "# List of features sorted from most to least important\n",
    "sorted_importances = [importance[1] for importance in feature_importances]\n",
    "sorted_features = [importance[0] for importance in feature_importances]\n",
    "\n",
    "# Cumulative importances\n",
    "cumulative_importances = np.cumsum(sorted_importances)\n",
    "\n",
    "# Make a line graph\n",
    "plt.plot(x_values, cumulative_importances, 'g-')\n",
    "\n",
    "# Draw line at 95% of importance retained\n",
    "plt.hlines(y = 0.95, xmin=0, xmax=len(sorted_importances), color = 'r', linestyles = 'dashed')\n",
    "\n",
    "# Format x ticks and labels\n",
    "plt.xticks(x_values, sorted_features, rotation = 'vertical')\n",
    "\n",
    "# Axis labels and title\n",
    "plt.xlabel('Variable'); plt.ylabel('Cumulative Importance'); plt.title('Cumulative Importances');"
   ]
  },
  {
   "cell_type": "markdown",
   "metadata": {
    "collapsed": true
   },
   "source": [
    "### Limit Number of Features"
   ]
  },
  {
   "cell_type": "code",
   "execution_count": 17,
   "metadata": {},
   "outputs": [
    {
     "name": "stdout",
     "output_type": "stream",
     "text": [
      "Number of features for 95% importance: 7\n"
     ]
    }
   ],
   "source": [
    "# Finding number of features for cumulative importance of 95%\n",
    "# Adding 1 as Python is zero-indexed\n",
    "print('Number of features for 95% importance:', np.where(cumulative_importances > 0.95)[0][0] + 1)"
   ]
  },
  {
   "cell_type": "code",
   "execution_count": 18,
   "metadata": {},
   "outputs": [
    {
     "name": "stdout",
     "output_type": "stream",
     "text": [
      "Important train features shape: (366, 7)\n",
      "Important test features shape: (123, 7)\n"
     ]
    }
   ],
   "source": [
    "# Extracting the names of the most important features\n",
    "important_feature_names = [feature[0] for feature in feature_importances[0:7]]\n",
    "# Finding columns of the most important features\n",
    "important_indices = [feature_list.index(feature) for feature in important_feature_names]\n",
    "\n",
    "# Creating training and testing sets with only important features\n",
    "important_train_features = train_features[:, important_indices]\n",
    "important_test_features = test_features[:, important_indices]\n",
    "\n",
    "# Sanity check on operations\n",
    "print('Important train features shape:', important_train_features.shape)\n",
    "print('Important test features shape:', important_test_features.shape)"
   ]
  },
  {
   "cell_type": "markdown",
   "metadata": {},
   "source": [
    "### Training on Important Features"
   ]
  },
  {
   "cell_type": "code",
   "execution_count": 19,
   "metadata": {
    "collapsed": true
   },
   "outputs": [],
   "source": [
    "# Training the model on only the important features\n",
    "rf.fit(important_train_features, train_prices);"
   ]
  },
  {
   "cell_type": "markdown",
   "metadata": {
    "collapsed": true
   },
   "source": [
    "### Evaluate on Important features"
   ]
  },
  {
   "cell_type": "code",
   "execution_count": 20,
   "metadata": {},
   "outputs": [
    {
     "name": "stdout",
     "output_type": "stream",
     "text": [
      "Average absolute error: 40382.078 dollars.\n",
      "Accuracy: 88.97041 %.\n"
     ]
    }
   ],
   "source": [
    "# Make predictions on test data\n",
    "predictions = rf.predict(important_test_features)\n",
    "\n",
    "# Performance metrics\n",
    "errors = abs(predictions - test_prices)\n",
    "\n",
    "print('Average absolute error:', round(np.mean(errors), 4), 'dollars.')\n",
    "\n",
    "# Calculate mean absolute percentage error (MAPE)\n",
    "mape = 100 * (errors / test_prices)\n",
    "\n",
    "# Calculate and display accuracy\n",
    "accuracy = 100 - np.mean(mape)\n",
    "print('Accuracy:', round(accuracy, 5), '%.')"
   ]
  },
  {
   "cell_type": "markdown",
   "metadata": {
    "collapsed": true
   },
   "source": [
    "As we can see Average Absolute error has decreases by 394.352 dollars"
   ]
  },
  {
   "cell_type": "markdown",
   "metadata": {
    "collapsed": true
   },
   "source": [
    "### Comparing Trade-Offs"
   ]
  },
  {
   "cell_type": "code",
   "execution_count": 21,
   "metadata": {},
   "outputs": [
    {
     "name": "stdout",
     "output_type": "stream",
     "text": [
      "All features total training and testing time: 3.38 seconds.\n"
     ]
    }
   ],
   "source": [
    "# Using only the 7 most important features (out of 13) results in increase in accuracy as well as decrease in run time (In my model).\n",
    "\n",
    "# Use time library for run time evaluation\n",
    "import time\n",
    "\n",
    "# All features training and testing time\n",
    "all_features_time = []\n",
    "\n",
    "# Do 10 iterations and take average for all features\n",
    "for _ in range(10):\n",
    "    start_time = time.time()\n",
    "    rf.fit(train_features, train_prices)\n",
    "    all_features_predictions = rf.predict(test_features)\n",
    "    end_time = time.time()\n",
    "    all_features_time.append(end_time - start_time)\n",
    "\n",
    "all_features_time = np.mean(all_features_time)\n",
    "print('All features total training and testing time:', round(all_features_time, 2), 'seconds.')"
   ]
  },
  {
   "cell_type": "code",
   "execution_count": 22,
   "metadata": {},
   "outputs": [
    {
     "name": "stdout",
     "output_type": "stream",
     "text": [
      "Reduced features total training and testing time: 3.13 seconds.\n"
     ]
    }
   ],
   "source": [
    "# Total training and testing time for reduced feature set\n",
    "reduced_features_time = []\n",
    "\n",
    "# Doing 10 iterations and taking average\n",
    "for _ in range(10):\n",
    "    start_time = time.time()\n",
    "    rf.fit(important_train_features, train_prices)\n",
    "    reduced_features_predictions = rf.predict(important_test_features)\n",
    "    end_time = time.time()\n",
    "    reduced_features_time.append(end_time - start_time)\n",
    "\n",
    "reduced_features_time = np.mean(reduced_features_time)\n",
    "print('Reduced features total training and testing time:', round(reduced_features_time, 2), 'seconds.')"
   ]
  },
  {
   "cell_type": "markdown",
   "metadata": {
    "collapsed": true
   },
   "source": [
    "### Accuracy vs Run-Time"
   ]
  },
  {
   "cell_type": "code",
   "execution_count": 23,
   "metadata": {},
   "outputs": [
    {
     "data": {
      "text/html": [
       "<div>\n",
       "<style>\n",
       "    .dataframe thead tr:only-child th {\n",
       "        text-align: right;\n",
       "    }\n",
       "\n",
       "    .dataframe thead th {\n",
       "        text-align: left;\n",
       "    }\n",
       "\n",
       "    .dataframe tbody tr th {\n",
       "        vertical-align: top;\n",
       "    }\n",
       "</style>\n",
       "<table border=\"1\" class=\"dataframe\">\n",
       "  <thead>\n",
       "    <tr style=\"text-align: right;\">\n",
       "      <th></th>\n",
       "      <th>features</th>\n",
       "      <th>accuracy</th>\n",
       "      <th>run_time</th>\n",
       "    </tr>\n",
       "  </thead>\n",
       "  <tbody>\n",
       "    <tr>\n",
       "      <th>0</th>\n",
       "      <td>all (13)</td>\n",
       "      <td>88.970000</td>\n",
       "      <td>3.38000</td>\n",
       "    </tr>\n",
       "    <tr>\n",
       "      <th>1</th>\n",
       "      <td>reduced (7)</td>\n",
       "      <td>88.970413</td>\n",
       "      <td>3.13057</td>\n",
       "    </tr>\n",
       "  </tbody>\n",
       "</table>\n",
       "</div>"
      ],
      "text/plain": [
       "      features   accuracy  run_time\n",
       "0     all (13)  88.970000   3.38000\n",
       "1  reduced (7)  88.970413   3.13057"
      ]
     },
     "execution_count": 23,
     "metadata": {},
     "output_type": "execute_result"
    }
   ],
   "source": [
    "all_accuracy =  100 * (1- np.mean(abs(all_features_predictions - test_prices) / test_prices))\n",
    "reduced_accuracy = 100 * (1- np.mean(abs(reduced_features_predictions - test_prices) / test_prices))\n",
    "\n",
    "comparison = pd.DataFrame({'features': ['all (13)', 'reduced (7)'], \n",
    "                           'run_time': [round(all_features_time, 2), round(reduced_features_time, 5)],\n",
    "                           'accuracy': [round(all_accuracy, 2), round(reduced_accuracy, 6)]})\n",
    "\n",
    "comparison[['features', 'accuracy', 'run_time']]"
   ]
  },
  {
   "cell_type": "code",
   "execution_count": 24,
   "metadata": {},
   "outputs": [
    {
     "name": "stdout",
     "output_type": "stream",
     "text": [
      "Relative increase in accuracy: 0.0016707512 %.\n",
      "Relative decrease in run time: 7.26638 %.\n"
     ]
    }
   ],
   "source": [
    "relative_accuracy_increase = 100 * (all_accuracy - reduced_accuracy) / all_accuracy\n",
    "print('Relative increase in accuracy:', round(relative_accuracy_increase, 10), '%.')\n",
    "\n",
    "relative_runtime_decrease = 100 * (all_features_time - reduced_features_time) / all_features_time\n",
    "print('Relative decrease in run time:', round(relative_runtime_decrease, 5), '%.')"
   ]
  },
  {
   "cell_type": "markdown",
   "metadata": {},
   "source": [
    "Thus this model is both accurate and fast."
   ]
  },
  {
   "cell_type": "markdown",
   "metadata": {},
   "source": [
    "## Hyper parameter Tuning"
   ]
  },
  {
   "cell_type": "markdown",
   "metadata": {
    "collapsed": true
   },
   "source": [
    "Examining the default Random Forest to determine parameters"
   ]
  },
  {
   "cell_type": "code",
   "execution_count": 25,
   "metadata": {},
   "outputs": [
    {
     "name": "stdout",
     "output_type": "stream",
     "text": [
      "Parameters currently in use:\n",
      "\n",
      "{'bootstrap': True,\n",
      " 'criterion': 'mse',\n",
      " 'max_depth': None,\n",
      " 'max_features': 'auto',\n",
      " 'max_leaf_nodes': None,\n",
      " 'min_impurity_decrease': 0.0,\n",
      " 'min_impurity_split': None,\n",
      " 'min_samples_leaf': 1,\n",
      " 'min_samples_split': 2,\n",
      " 'min_weight_fraction_leaf': 0.0,\n",
      " 'n_estimators': 10,\n",
      " 'n_jobs': 1,\n",
      " 'oob_score': False,\n",
      " 'random_state': 30,\n",
      " 'verbose': 0,\n",
      " 'warm_start': False}\n"
     ]
    }
   ],
   "source": [
    "rf = RandomForestRegressor(random_state = 30)\n",
    "\n",
    "# Look at parameters used by our current forest\n",
    "print('Parameters currently in use:\\n')\n",
    "pprint(rf.get_params())"
   ]
  },
  {
   "cell_type": "markdown",
   "metadata": {
    "collapsed": true
   },
   "source": [
    "### Random Search with Cross Validation"
   ]
  },
  {
   "cell_type": "code",
   "execution_count": 26,
   "metadata": {},
   "outputs": [
    {
     "name": "stdout",
     "output_type": "stream",
     "text": [
      "{'bootstrap': [True, False],\n",
      " 'max_depth': [10, 20, 30, 40, 50, 60, 70, 80, 90, 100, 110, None],\n",
      " 'max_features': ['auto', 'sqrt'],\n",
      " 'min_samples_leaf': [1, 2, 4],\n",
      " 'min_samples_split': [2, 5, 10],\n",
      " 'n_estimators': [200, 400, 600, 800, 1000, 1200, 1400, 1600, 1800, 2000]}\n"
     ]
    }
   ],
   "source": [
    "# Random Hyperparameter Grid\n",
    "# Creating a parameter grid to sample from during fitting\n",
    "    \n",
    "# Number of trees in random forest\n",
    "n_estimators = [int(x) for x in np.linspace(start = 200, stop = 2000, num = 10)]\n",
    "# Number of features to consider at every split\n",
    "max_features = ['auto', 'sqrt']\n",
    "# Maximum number of levels in tree\n",
    "max_depth = [int(x) for x in np.linspace(10, 110, num = 11)]\n",
    "max_depth.append(None)\n",
    "# Minimum number of samples required to split a node\n",
    "min_samples_split = [2, 5, 10]\n",
    "# Minimum number of samples required at each leaf node\n",
    "min_samples_leaf = [1, 2, 4]\n",
    "# Method of selecting samples for training each tree\n",
    "bootstrap = [True, False]\n",
    "# Create the random grid\n",
    "random_grid = {'n_estimators': n_estimators,\n",
    "               'max_features': max_features,\n",
    "               'max_depth': max_depth,\n",
    "               'min_samples_split': min_samples_split,\n",
    "               'min_samples_leaf': min_samples_leaf,\n",
    "               'bootstrap': bootstrap}\n",
    "pprint(random_grid)  "
   ]
  },
  {
   "cell_type": "code",
   "execution_count": 27,
   "metadata": {},
   "outputs": [
    {
     "name": "stdout",
     "output_type": "stream",
     "text": [
      "Fitting 3 folds for each of 100 candidates, totalling 300 fits\n"
     ]
    },
    {
     "name": "stderr",
     "output_type": "stream",
     "text": [
      "[Parallel(n_jobs=-1)]: Done  33 tasks      | elapsed:   45.9s\n",
      "[Parallel(n_jobs=-1)]: Done 154 tasks      | elapsed:  3.4min\n",
      "[Parallel(n_jobs=-1)]: Done 300 out of 300 | elapsed:  6.3min finished\n"
     ]
    },
    {
     "data": {
      "text/plain": [
       "{'bootstrap': False,\n",
       " 'max_depth': 50,\n",
       " 'max_features': 'sqrt',\n",
       " 'min_samples_leaf': 1,\n",
       " 'min_samples_split': 2,\n",
       " 'n_estimators': 200}"
      ]
     },
     "execution_count": 27,
     "metadata": {},
     "output_type": "execute_result"
    }
   ],
   "source": [
    "# Random Search Training\n",
    "# Instantiating the random search and fitting it.\n",
    "# Using the random grid to search for best hyperparameters\n",
    "# First create the base model to tune\n",
    "rf = RandomForestRegressor()\n",
    "# Random search of parameters, using 3 fold cross validation, \n",
    "# search across 100 different combinations, and use all available cores\n",
    "rf_random = RandomizedSearchCV(estimator = rf, param_distributions = random_grid, n_iter = 100, cv = 3, verbose=2, random_state=30, n_jobs = -1)\n",
    "# Fit the random search model\n",
    "rf_random.fit(train_features, train_prices)    \n",
    "rf_random.best_params_"
   ]
  },
  {
   "cell_type": "markdown",
   "metadata": {},
   "source": [
    "### Evaluating Random Search"
   ]
  },
  {
   "cell_type": "code",
   "execution_count": 28,
   "metadata": {
    "collapsed": true
   },
   "outputs": [],
   "source": [
    "# If random search yielded a better model, we compare the base model with the best random search model\n",
    "\n",
    "# Evaluation Function\n",
    "def evaluate(model, test_features, test_prices):\n",
    "    predictions = model.predict(test_features)\n",
    "    errors = abs(predictions - test_prices)\n",
    "    mape = 100 * np.mean(errors / test_prices)\n",
    "    accuracy = 100 - mape\n",
    "    print('Model Performance:')\n",
    "    print('Average Error: {:0.3f} dollars.'.format(np.mean(errors)))\n",
    "    print('Accuracy = {:0.10f}%.'.format(accuracy))    \n",
    "    return accuracy"
   ]
  },
  {
   "cell_type": "markdown",
   "metadata": {},
   "source": [
    "### Evaluating the Default (Base) Model"
   ]
  },
  {
   "cell_type": "code",
   "execution_count": 29,
   "metadata": {},
   "outputs": [
    {
     "name": "stdout",
     "output_type": "stream",
     "text": [
      "Model Performance:\n",
      "Average Error: 40776.434 dollars.\n",
      "Accuracy = 88.9718999345%.\n"
     ]
    }
   ],
   "source": [
    "base_model = RandomForestRegressor(n_estimators = 1000, random_state = 30)\n",
    "base_model.fit(train_features, train_prices)\n",
    "base_accuracy = evaluate(base_model, test_features, test_prices)"
   ]
  },
  {
   "cell_type": "markdown",
   "metadata": {
    "collapsed": true
   },
   "source": [
    "### Evaluating the Best Random Search Model"
   ]
  },
  {
   "cell_type": "code",
   "execution_count": 30,
   "metadata": {},
   "outputs": [
    {
     "name": "stdout",
     "output_type": "stream",
     "text": [
      "Model Performance:\n",
      "Average Error: 39761.280 dollars.\n",
      "Accuracy = 89.2061637763%.\n",
      "Improvement of 0.263301%.\n"
     ]
    }
   ],
   "source": [
    "best_random = rf_random.best_estimator_\n",
    "random_accuracy = evaluate(best_random, test_features, test_prices)\n",
    "print('Improvement of {:0.6f}%.'.format( 100 * (random_accuracy - base_accuracy) / base_accuracy))"
   ]
  },
  {
   "cell_type": "markdown",
   "metadata": {},
   "source": [
    "### Grid Search with Cross Validation\n",
    "Performing grid search building on the result from the random search. And testing a range of hyperparameters around the best values returned by random search."
   ]
  },
  {
   "cell_type": "code",
   "execution_count": 31,
   "metadata": {
    "collapsed": true
   },
   "outputs": [],
   "source": [
    "# Making another grid based on the best values provided by random search:\n",
    "\n",
    "param_grid = {\n",
    "    'bootstrap': [False],\n",
    "    'max_depth': [110,None],\n",
    "    'max_features': [2, 3],\n",
    "    'min_samples_leaf': [1],\n",
    "    'min_samples_split': [2],\n",
    "    'n_estimators': [400]\n",
    "}\n",
    "# Creating a based model\n",
    "rf = RandomForestRegressor()\n",
    "# Instantiating the grid search model\n",
    "grid_search = GridSearchCV(estimator = rf, param_grid = param_grid, \n",
    "                          cv = 3, n_jobs = -1, verbose = 2)"
   ]
  },
  {
   "cell_type": "code",
   "execution_count": 32,
   "metadata": {},
   "outputs": [
    {
     "name": "stdout",
     "output_type": "stream",
     "text": [
      "Fitting 3 folds for each of 4 candidates, totalling 12 fits\n"
     ]
    },
    {
     "name": "stderr",
     "output_type": "stream",
     "text": [
      "[Parallel(n_jobs=-1)]: Done  12 out of  12 | elapsed:    8.0s remaining:    0.0s\n",
      "[Parallel(n_jobs=-1)]: Done  12 out of  12 | elapsed:    8.0s finished\n"
     ]
    },
    {
     "data": {
      "text/plain": [
       "{'bootstrap': False,\n",
       " 'max_depth': 110,\n",
       " 'max_features': 3,\n",
       " 'min_samples_leaf': 1,\n",
       " 'min_samples_split': 2,\n",
       " 'n_estimators': 400}"
      ]
     },
     "execution_count": 32,
     "metadata": {},
     "output_type": "execute_result"
    }
   ],
   "source": [
    "# Fitting the grid search to the data\n",
    "grid_search.fit(train_features, train_prices)\n",
    "\n",
    "# Fitting the model, display the best hyperparameters, and evaluate performance:\n",
    "grid_search.best_params_"
   ]
  },
  {
   "cell_type": "code",
   "execution_count": 33,
   "metadata": {},
   "outputs": [
    {
     "name": "stdout",
     "output_type": "stream",
     "text": [
      "Model Performance:\n",
      "Average Error: 39521.061 dollars.\n",
      "Accuracy = 89.2567049446%.\n",
      "Improvement of 0.32011%.\n"
     ]
    }
   ],
   "source": [
    "# Evaluating the Best Model from Grid Search\n",
    "best_grid = grid_search.best_estimator_\n",
    "grid_accuracy = evaluate(best_grid, test_features, test_prices)    \n",
    "print('Improvement of {:0.5f}%.'.format( 100 * (grid_accuracy - base_accuracy) / base_accuracy))"
   ]
  },
  {
   "cell_type": "markdown",
   "metadata": {
    "collapsed": true
   },
   "source": [
    "### Another Round of Grid Search"
   ]
  },
  {
   "cell_type": "code",
   "execution_count": 34,
   "metadata": {},
   "outputs": [
    {
     "name": "stdout",
     "output_type": "stream",
     "text": [
      "Fitting 3 folds for each of 1 candidates, totalling 3 fits\n"
     ]
    },
    {
     "name": "stderr",
     "output_type": "stream",
     "text": [
      "[Parallel(n_jobs=-1)]: Done   3 out of   3 | elapsed:    3.6s finished\n"
     ]
    },
    {
     "data": {
      "text/plain": [
       "GridSearchCV(cv=3, error_score='raise',\n",
       "       estimator=RandomForestRegressor(bootstrap=True, criterion='mse', max_depth=None,\n",
       "           max_features='auto', max_leaf_nodes=None,\n",
       "           min_impurity_decrease=0.0, min_impurity_split=None,\n",
       "           min_samples_leaf=1, min_samples_split=2,\n",
       "           min_weight_fraction_leaf=0.0, n_estimators=10, n_jobs=1,\n",
       "           oob_score=False, random_state=None, verbose=0, warm_start=False),\n",
       "       fit_params=None, iid=True, n_jobs=-1,\n",
       "       param_grid={'min_samples_leaf': [1], 'bootstrap': [False], 'n_estimators': [400], 'min_samples_split': [2], 'max_features': [3], 'max_depth': [None]},\n",
       "       pre_dispatch='2*n_jobs', refit=True, return_train_score=True,\n",
       "       scoring=None, verbose=2)"
      ]
     },
     "execution_count": 34,
     "metadata": {},
     "output_type": "execute_result"
    }
   ],
   "source": [
    "# Create the parameter grid based on the results of previous Grid search\n",
    "\n",
    "param_grid = {\n",
    "    'bootstrap': [False],\n",
    "    'max_depth': [None],\n",
    "    'max_features': [3],\n",
    "    'min_samples_leaf': [1],\n",
    "    'min_samples_split': [2],\n",
    "    'n_estimators': [400]\n",
    "}\n",
    "# Creating a based model\n",
    "rf = RandomForestRegressor()\n",
    "# Instantiating the grid search model\n",
    "grid_search_ad = GridSearchCV(estimator = rf, param_grid = param_grid, \n",
    "                          cv = 3, n_jobs = -1, verbose = 2)\n",
    "\n",
    "# Fit the grid search to the data\n",
    "grid_search_ad.fit(train_features, train_prices)"
   ]
  },
  {
   "cell_type": "code",
   "execution_count": 35,
   "metadata": {},
   "outputs": [
    {
     "data": {
      "text/plain": [
       "{'bootstrap': False,\n",
       " 'max_depth': None,\n",
       " 'max_features': 3,\n",
       " 'min_samples_leaf': 1,\n",
       " 'min_samples_split': 2,\n",
       " 'n_estimators': 400}"
      ]
     },
     "execution_count": 35,
     "metadata": {},
     "output_type": "execute_result"
    }
   ],
   "source": [
    "grid_search_ad.best_params_"
   ]
  },
  {
   "cell_type": "code",
   "execution_count": 36,
   "metadata": {},
   "outputs": [
    {
     "name": "stdout",
     "output_type": "stream",
     "text": [
      "Model Performance:\n",
      "Average Error: 39492.549 dollars.\n",
      "Accuracy = 89.3128257909%.\n",
      "Improvement of 0.06308%.\n"
     ]
    }
   ],
   "source": [
    "best_grid_ad= grid_search_ad.best_estimator_\n",
    "grid_ad_accuracy=evaluate(best_grid_ad, test_features, test_prices)\n",
    "  \n",
    "print('Improvement of {:0.5f}%.'.format( 100 * (grid_ad_accuracy - grid_accuracy) / base_accuracy))"
   ]
  },
  {
   "cell_type": "markdown",
   "metadata": {},
   "source": [
    "This time our performance slightly increased. Therefore, finalizing this model"
   ]
  },
  {
   "cell_type": "markdown",
   "metadata": {
    "collapsed": true
   },
   "source": [
    "### Final Model"
   ]
  },
  {
   "cell_type": "code",
   "execution_count": 39,
   "metadata": {},
   "outputs": [
    {
     "name": "stdout",
     "output_type": "stream",
     "text": [
      "Model Parameters:\n",
      "\n",
      "{'cv': 3,\n",
      " 'error_score': 'raise',\n",
      " 'estimator': RandomForestRegressor(bootstrap=True, criterion='mse', max_depth=None,\n",
      "           max_features='auto', max_leaf_nodes=None,\n",
      "           min_impurity_decrease=0.0, min_impurity_split=None,\n",
      "           min_samples_leaf=1, min_samples_split=2,\n",
      "           min_weight_fraction_leaf=0.0, n_estimators=10, n_jobs=1,\n",
      "           oob_score=False, random_state=None, verbose=0, warm_start=False),\n",
      " 'estimator__bootstrap': True,\n",
      " 'estimator__criterion': 'mse',\n",
      " 'estimator__max_depth': None,\n",
      " 'estimator__max_features': 'auto',\n",
      " 'estimator__max_leaf_nodes': None,\n",
      " 'estimator__min_impurity_decrease': 0.0,\n",
      " 'estimator__min_impurity_split': None,\n",
      " 'estimator__min_samples_leaf': 1,\n",
      " 'estimator__min_samples_split': 2,\n",
      " 'estimator__min_weight_fraction_leaf': 0.0,\n",
      " 'estimator__n_estimators': 10,\n",
      " 'estimator__n_jobs': 1,\n",
      " 'estimator__oob_score': False,\n",
      " 'estimator__random_state': None,\n",
      " 'estimator__verbose': 0,\n",
      " 'estimator__warm_start': False,\n",
      " 'fit_params': None,\n",
      " 'iid': True,\n",
      " 'n_jobs': -1,\n",
      " 'param_grid': {'bootstrap': [False],\n",
      "                'max_depth': [110, None],\n",
      "                'max_features': [2, 3],\n",
      "                'min_samples_leaf': [1],\n",
      "                'min_samples_split': [2],\n",
      "                'n_estimators': [400]},\n",
      " 'pre_dispatch': '2*n_jobs',\n",
      " 'refit': True,\n",
      " 'return_train_score': True,\n",
      " 'scoring': None,\n",
      " 'verbose': 2}\n",
      "\n",
      "\n",
      "Model Performance:\n",
      "Average Error: 39492.549 dollars.\n",
      "Accuracy = 89.3128257909%.\n"
     ]
    },
    {
     "data": {
      "text/plain": [
       "89.312825790937666"
      ]
     },
     "execution_count": 39,
     "metadata": {},
     "output_type": "execute_result"
    }
   ],
   "source": [
    "print('Model Parameters:\\n')\n",
    "pprint(grid_search.get_params())\n",
    "print('\\n')\n",
    "evaluate(grid_search_ad, test_features, test_prices)"
   ]
  },
  {
   "cell_type": "markdown",
   "metadata": {},
   "source": [
    "### Training Visualizations"
   ]
  },
  {
   "cell_type": "code",
   "execution_count": 38,
   "metadata": {},
   "outputs": [
    {
     "name": "stdout",
     "output_type": "stream",
     "text": [
      "Fitting 3 folds for each of 30 candidates, totalling 90 fits\n"
     ]
    },
    {
     "name": "stderr",
     "output_type": "stream",
     "text": [
      "[Parallel(n_jobs=-1)]: Done  33 tasks      | elapsed:    4.7s\n",
      "[Parallel(n_jobs=-1)]: Done  90 out of  90 | elapsed:   16.3s finished\n"
     ]
    },
    {
     "name": "stdout",
     "output_type": "stream",
     "text": [
      "Fitting 3 folds for each of 13 candidates, totalling 39 fits\n"
     ]
    },
    {
     "name": "stderr",
     "output_type": "stream",
     "text": [
      "[Parallel(n_jobs=-1)]: Done  39 out of  39 | elapsed:   22.2s finished\n"
     ]
    },
    {
     "data": {
      "image/png": "[encoded data removed]",
      "text/plain": [
       "<matplotlib.figure.Figure at 0x25a039d3518>"
      ]
     },
     "metadata": {},
     "output_type": "display_data"
    },
    {
     "data": {
      "image/png": "[encoded data removed]",
      "text/plain": [
       "<matplotlib.figure.Figure at 0x25a026e0898>"
      ]
     },
     "metadata": {},
     "output_type": "display_data"
    }
   ],
   "source": [
    "# Training Curves\n",
    "plt.style.use('seaborn-darkgrid')\n",
    "\n",
    "# Grid with only the number of trees changed\n",
    "tree_grid = {'n_estimators': [int(x) for x in np.linspace(1, 301, 30)]}\n",
    "\n",
    "# Create the grid search model and fit to the training data\n",
    "tree_grid_search = GridSearchCV(best_grid_ad, param_grid=tree_grid, verbose = 2, n_jobs=-1, cv = 3,\n",
    "                                scoring = 'neg_mean_absolute_error')\n",
    "tree_grid_search.fit(train_features, train_prices);\n",
    "tree_grid_search.cv_results_\n",
    "\n",
    "def plot_results(model, param = 'n_estimators', name = 'Num Trees'):\n",
    "    param_name = 'param_%s' % param\n",
    "\n",
    "    # Extract information from the cross validation model\n",
    "    train_scores = model.cv_results_['mean_train_score']\n",
    "    test_scores = model.cv_results_['mean_test_score']\n",
    "    train_time = model.cv_results_['mean_fit_time']\n",
    "    param_values = list(model.cv_results_[param_name])\n",
    "    \n",
    "    # Plot the scores over the parameter\n",
    "    plt.subplots(1, 2, figsize=(10, 6))\n",
    "    plt.subplot(121)\n",
    "    plt.plot(param_values, train_scores, 'bo-', label = 'train')\n",
    "    plt.plot(param_values, test_scores, 'go-', label = 'test')\n",
    "    plt.ylim(ymin = -10, ymax = 10)\n",
    "    plt.legend()\n",
    "    plt.xlabel(name)\n",
    "    plt.ylabel('Neg Mean Absolute Error')\n",
    "    plt.title('Score vs %s' % name)    \n",
    "    plt.subplot(122)\n",
    "    plt.plot(param_values, train_time, 'ro-')\n",
    "    plt.ylim(ymin = -10.0, ymax = 10.0)\n",
    "    plt.xlabel(name)\n",
    "    plt.ylabel('Train Time (sec)')\n",
    "    plt.title('Training Time vs %s' % name)        \n",
    "    plt.tight_layout(pad = 4)\n",
    "        \n",
    "plot_results(tree_grid_search)\n",
    "\n",
    "# Number of Features at Each Split\n",
    "# Define a grid over only the maximum number of features\n",
    "feature_grid = {'max_features': list(range(1, train_features.shape[1] + 1))}\n",
    "\n",
    "# Creating the grid search and fitting on the training data\n",
    "feature_grid_search = GridSearchCV(best_grid, param_grid=feature_grid, cv = 3, n_jobs=-1, verbose= 2,\n",
    "                                  scoring = 'neg_mean_absolute_error')\n",
    "feature_grid_search.fit(train_features, train_prices);\n",
    "\n",
    "plot_results(feature_grid_search, param='max_features', name = 'Max Features')"
   ]
  },
  {
   "cell_type": "code",
   "execution_count": 40,
   "metadata": {},
   "outputs": [
    {
     "name": "stdout",
     "output_type": "stream",
     "text": [
      "Predicted selling price for Client 1's home by using Random forest is: $595,617.75\n",
      "Predicted selling price for Client 2's home by using Random forest is: $513,318.75\n",
      "Predicted selling price for Client 3's home by using Random forest is: $461,664.00\n",
      "Predicted selling price for Client 4's home by using Random forest is: $857,892.00\n"
     ]
    }
   ],
   "source": [
    "# Tuned model predictions\n",
    "for i, price in enumerate(grid_search_ad.predict(client_data)):\n",
    "    print (\"Predicted selling price for Client {}'s home by using Random forest is: ${:,.2f}\".format(i+1, price))"
   ]
  },
  {
   "cell_type": "code",
   "execution_count": 41,
   "metadata": {},
   "outputs": [
    {
     "name": "stdout",
     "output_type": "stream",
     "text": [
      "0.87624667407\n"
     ]
    }
   ],
   "source": [
    "# Save the model to disk\n",
    "filename = r'C:\\Users\\Tanay\\Desktop\\Genesis\\Final project\\Jupyter notebook\\RandomForest.sav'\n",
    "pickle.dump(grid_search_ad, open(filename, 'wb'))\n",
    " \n",
    "# loading the model from disk\n",
    "loaded_model = pickle.load(open(filename, 'rb'))\n",
    "result = loaded_model.score(test_features, test_prices)\n",
    "print(result)\n"
   ]
  },
  {
   "cell_type": "code",
   "execution_count": null,
   "metadata": {
    "collapsed": true
   },
   "outputs": [],
   "source": []
  }
 ],
 "metadata": {
  "kernelspec": {
   "display_name": "Python 3",
   "language": "python",
   "name": "python3"
  },
  "language_info": {
   "codemirror_mode": {
    "name": "ipython",
    "version": 3
   },
   "file_extension": ".py",
   "mimetype": "text/x-python",
   "name": "python",
   "nbconvert_exporter": "python",
   "pygments_lexer": "ipython3",
   "version": "3.5.4"
  }
 },
 "nbformat": 4,
 "nbformat_minor": 2
}
